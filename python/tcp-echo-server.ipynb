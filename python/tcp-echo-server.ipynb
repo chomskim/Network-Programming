{
 "cells": [
  {
   "cell_type": "code",
   "execution_count": 1,
   "metadata": {
    "collapsed": true
   },
   "outputs": [],
   "source": [
    "import socket\n",
    "import threading"
   ]
  },
  {
   "cell_type": "code",
   "execution_count": 2,
   "metadata": {
    "collapsed": true
   },
   "outputs": [],
   "source": [
    "HOST = \"192.168.219.154\"\n",
    "PORT = 8890"
   ]
  },
  {
   "cell_type": "code",
   "execution_count": 3,
   "metadata": {
    "collapsed": true
   },
   "outputs": [],
   "source": [
    "def handle_client(conn, addr):\n",
    "    \"\"\" Receive one message and echo it back to client, then close\n",
    "    socket \"\"\"\n",
    "    try:\n",
    "        f = conn.makefile(mode='rwb', encoding='utf-8')\n",
    "        while True:\n",
    "            msg = f.readline()\n",
    "            if not msg :\n",
    "                break\n",
    "            #msg = msg+'\\r\\n'\n",
    "            print(msg)\n",
    "            f.write(msg)\n",
    "            f.flush()\n",
    "    except (ConnectionError, BrokenPipeError):\n",
    "        print('Socket error')\n",
    "    finally:\n",
    "        print('Closed connection to {}'.format(addr))\n",
    "        conn.close()"
   ]
  },
  {
   "cell_type": "code",
   "execution_count": 4,
   "metadata": {},
   "outputs": [],
   "source": [
    "sock = socket.socket(socket.AF_INET, socket.SOCK_STREAM)\n",
    "sock.setsockopt(socket.SOL_SOCKET, socket.SO_REUSEADDR, 1)\n",
    "sock.bind((HOST, PORT))\n",
    "sock.listen(10)"
   ]
  },
  {
   "cell_type": "code",
   "execution_count": 5,
   "metadata": {},
   "outputs": [
    {
     "name": "stdout",
     "output_type": "stream",
     "text": [
      "Listening at ('192.168.219.154', 8890)\n",
      "Exited by user\n"
     ]
    }
   ],
   "source": [
    "print('Listening at', sock.getsockname())\n",
    "\n",
    "while True:\n",
    "    try:\n",
    "        conn, addr = sock.accept()\n",
    "        print('We have accepted a connection from', addr)\n",
    "        print(' Socket name:', conn.getsockname())\n",
    "        print(' Socket peer:', conn.getpeername())\n",
    "    \n",
    "        thread = threading.Thread(target=handle_client, args=[conn, addr], daemon=True)\n",
    "        thread.start()\n",
    "        print('Connection from {}'.format(addr)) \n",
    "\n",
    "    except KeyboardInterrupt:\n",
    "        print(\"Exited by user\")\n",
    "        break\n"
   ]
  },
  {
   "cell_type": "code",
   "execution_count": null,
   "metadata": {
    "collapsed": true
   },
   "outputs": [],
   "source": []
  }
 ],
 "metadata": {
  "kernelspec": {
   "display_name": "Python [default]",
   "language": "python",
   "name": "python3"
  },
  "language_info": {
   "codemirror_mode": {
    "name": "ipython",
    "version": 3
   },
   "file_extension": ".py",
   "mimetype": "text/x-python",
   "name": "python",
   "nbconvert_exporter": "python",
   "pygments_lexer": "ipython3",
   "version": "3.5.3"
  }
 },
 "nbformat": 4,
 "nbformat_minor": 1
}
