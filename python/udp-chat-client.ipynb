{
 "cells": [
  {
   "cell_type": "code",
   "execution_count": 1,
   "metadata": {
    "collapsed": true
   },
   "outputs": [],
   "source": [
    "import socket\n",
    "import threading"
   ]
  },
  {
   "cell_type": "code",
   "execution_count": 2,
   "metadata": {
    "collapsed": true
   },
   "outputs": [],
   "source": [
    "HOST = \"192.168.219.154\"\n",
    "PORT = 7770\n",
    "BUF_SIZE = 65535\n",
    "MAX_TIMEOUT = 10\n",
    "stopped = False"
   ]
  },
  {
   "cell_type": "code",
   "execution_count": 3,
   "metadata": {
    "collapsed": true
   },
   "outputs": [],
   "source": [
    "def receiver_thread(sock):\n",
    "    \"\"\" Receive one message from messanger server.\n",
    "    \"\"\"\n",
    "    while True:\n",
    "        if stopped:\n",
    "            break\n",
    "        \n",
    "        try:\n",
    "            data = sock.recv(BUF_SIZE)\n",
    "        except socket.timeout as exc:\n",
    "            #raise RuntimeError('I think the server is down') from exc\n",
    "            pass\n",
    "        else:\n",
    "            print('>>{}'.format(data.decode('utf-8')))\n",
    "\n",
    "    print (\"Receiver Thread stopped\")"
   ]
  },
  {
   "cell_type": "code",
   "execution_count": 4,
   "metadata": {},
   "outputs": [
    {
     "name": "stdout",
     "output_type": "stream",
     "text": [
      "Client socket name is ('192.168.219.154', 33130)\n"
     ]
    }
   ],
   "source": [
    "sock = socket.socket(socket.AF_INET, socket.SOCK_DGRAM)\n",
    "sock.connect((HOST, PORT))\n",
    "sock.settimeout(MAX_TIMEOUT)\n",
    "\n",
    "print('Client socket name is {}'.format(sock.getsockname()))\n"
   ]
  },
  {
   "cell_type": "code",
   "execution_count": 5,
   "metadata": {},
   "outputs": [
    {
     "name": "stdout",
     "output_type": "stream",
     "text": [
      "<<hi\n",
      ">>hello\n",
      "<<zzz\n",
      "<<.\n",
      "Receiver Thread stopped\n"
     ]
    }
   ],
   "source": [
    "thread = threading.Thread(target=receiver_thread, args=[sock], daemon=True)\n",
    "thread.start()\n",
    "\n",
    "while True:\n",
    "    text = input(\"<<\")\n",
    "    if text == '.':\n",
    "        stopped = True\n",
    "        break\n",
    "        \n",
    "    data = text.encode('utf-8')\n",
    "    sock.send(data)\n"
   ]
  },
  {
   "cell_type": "code",
   "execution_count": null,
   "metadata": {
    "collapsed": true
   },
   "outputs": [],
   "source": []
  }
 ],
 "metadata": {
  "kernelspec": {
   "display_name": "Python [default]",
   "language": "python",
   "name": "python3"
  },
  "language_info": {
   "codemirror_mode": {
    "name": "ipython",
    "version": 3
   },
   "file_extension": ".py",
   "mimetype": "text/x-python",
   "name": "python",
   "nbconvert_exporter": "python",
   "pygments_lexer": "ipython3",
   "version": "3.5.3"
  }
 },
 "nbformat": 4,
 "nbformat_minor": 2
}
