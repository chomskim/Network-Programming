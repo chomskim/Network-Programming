{
 "cells": [
  {
   "cell_type": "code",
   "execution_count": 7,
   "metadata": {
    "collapsed": true
   },
   "outputs": [],
   "source": [
    "import socket\n"
   ]
  },
  {
   "cell_type": "code",
   "execution_count": 8,
   "metadata": {
    "collapsed": true
   },
   "outputs": [],
   "source": [
    "HOST = \"192.168.219.154\"\n",
    "PORT = 8880\n",
    "MAX_BYTES = 65535"
   ]
  },
  {
   "cell_type": "code",
   "execution_count": 14,
   "metadata": {},
   "outputs": [
    {
     "name": "stdout",
     "output_type": "stream",
     "text": [
      "Client socket name is ('192.168.219.154', 38768)\n",
      "<<hello\n",
      "Waiting up to 0.1 seconds for a reply\n",
      ">>hello\n"
     ]
    }
   ],
   "source": [
    "sock = socket.socket(socket.AF_INET, socket.SOCK_DGRAM)\n",
    "sock.connect((HOST, PORT))\n",
    "print('Client socket name is {}'.format(sock.getsockname()))\n",
    "\n",
    "delay = 0.1  # seconds\n",
    "text = input(\"<<\")\n",
    "data = text.encode('utf-8')\n",
    "while True:\n",
    "    sock.send(data)\n",
    "    #print('Waiting up to {} seconds for a reply'.format(delay))\n",
    "    sock.settimeout(delay)\n",
    "    try:\n",
    "        data = sock.recv(MAX_BYTES)\n",
    "    except socket.timeout as exc:\n",
    "            delay *= 2  # wait even longer for the next request\n",
    "            if delay > 2.0:\n",
    "                raise RuntimeError('I think the server is down') from exc\n",
    "    else:\n",
    "        break   # we are done, and can stop looping\n",
    "\n",
    "    \n",
    "print('>>{}'.format(data.decode('utf-8')))\n",
    "\n"
   ]
  },
  {
   "cell_type": "code",
   "execution_count": null,
   "metadata": {
    "collapsed": true
   },
   "outputs": [],
   "source": []
  }
 ],
 "metadata": {
  "kernelspec": {
   "display_name": "Python [default]",
   "language": "python",
   "name": "python3"
  },
  "language_info": {
   "codemirror_mode": {
    "name": "ipython",
    "version": 3
   },
   "file_extension": ".py",
   "mimetype": "text/x-python",
   "name": "python",
   "nbconvert_exporter": "python",
   "pygments_lexer": "ipython3",
   "version": "3.5.3"
  }
 },
 "nbformat": 4,
 "nbformat_minor": 2
}
