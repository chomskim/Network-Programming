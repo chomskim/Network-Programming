{
 "cells": [
  {
   "cell_type": "code",
   "execution_count": 1,
   "metadata": {
    "collapsed": true
   },
   "outputs": [],
   "source": [
    "import socket"
   ]
  },
  {
   "cell_type": "code",
   "execution_count": 2,
   "metadata": {
    "collapsed": true
   },
   "outputs": [],
   "source": [
    "HOST = \"192.168.219.154\"\n",
    "PORT = 7770\n",
    "BUF_SIZE = 65535"
   ]
  },
  {
   "cell_type": "code",
   "execution_count": 3,
   "metadata": {
    "collapsed": true
   },
   "outputs": [],
   "source": [
    "pair = {}"
   ]
  },
  {
   "cell_type": "code",
   "execution_count": 4,
   "metadata": {
    "collapsed": true
   },
   "outputs": [],
   "source": [
    "sock = socket.socket(socket.AF_INET, socket.SOCK_DGRAM)\n",
    "sock.bind((HOST, PORT))\n"
   ]
  },
  {
   "cell_type": "code",
   "execution_count": null,
   "metadata": {},
   "outputs": [
    {
     "name": "stdout",
     "output_type": "stream",
     "text": [
      "Listening at ('192.168.219.154', 7770)\n",
      "('192.168.219.172', 62179) connected\n",
      "('192.168.219.172', 62180) connected\n"
     ]
    }
   ],
   "source": [
    "print('Listening at', sock.getsockname())\n",
    "\n",
    "while True:\n",
    "    try:\n",
    "        inData, inAddr = sock.recvfrom(BUF_SIZE)\n",
    "        keys = list(pair.keys())\n",
    "        if not inAddr in keys:\n",
    "            print('{} connected'.format(inAddr))\n",
    "            pair[inAddr] = inAddr # at start I'm my own partner\n",
    "            keys = list(pair.keys())\n",
    "        \n",
    "        outAddr = pair[inAddr] \n",
    "        \n",
    "        # make pair of chatter in case of no partner\n",
    "        if inAddr == outAddr:\n",
    "            #print('inAddr={}'.format(inAddr))\n",
    "            keys.remove(inAddr)\n",
    "            \n",
    "            # find the first no partner addr\n",
    "            anew = None\n",
    "            for addr in keys:\n",
    "                atemp = pair[addr]\n",
    "                #print('atemp={} addr={}'.format(atemp, addr))\n",
    "                if addr == atemp:\n",
    "                    anew = atemp\n",
    "                    break\n",
    "                    \n",
    "            if not anew is None:\n",
    "                #print('anew={}'.format(anew))\n",
    "                outAddr = anew\n",
    "                pair[inAddr] = outAddr\n",
    "                pair[outAddr] = inAddr       \n",
    "        \n",
    "        sock.sendto(inData, outAddr)        \n",
    "                \n",
    "\n",
    "    except KeyboardInterrupt:\n",
    "        print(\"Exited by user\")\n",
    "        break\n"
   ]
  },
  {
   "cell_type": "code",
   "execution_count": null,
   "metadata": {
    "collapsed": true
   },
   "outputs": [],
   "source": []
  }
 ],
 "metadata": {
  "kernelspec": {
   "display_name": "Python [default]",
   "language": "python",
   "name": "python3"
  },
  "language_info": {
   "codemirror_mode": {
    "name": "ipython",
    "version": 3
   },
   "file_extension": ".py",
   "mimetype": "text/x-python",
   "name": "python",
   "nbconvert_exporter": "python",
   "pygments_lexer": "ipython3",
   "version": "3.5.3"
  }
 },
 "nbformat": 4,
 "nbformat_minor": 2
}
