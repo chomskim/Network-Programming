{
 "cells": [
  {
   "cell_type": "code",
   "execution_count": 1,
   "metadata": {
    "collapsed": true
   },
   "outputs": [],
   "source": [
    "import socket\n",
    "import threading"
   ]
  },
  {
   "cell_type": "code",
   "execution_count": 2,
   "metadata": {
    "collapsed": true
   },
   "outputs": [],
   "source": [
    "HOST = \"192.168.219.154\"\n",
    "PORT = 7770\n",
    "BUF_SIZE = 65535\n",
    "MAX_TIMEOUT = 10\n",
    "stopped = False"
   ]
  },
  {
   "cell_type": "code",
   "execution_count": 3,
   "metadata": {
    "collapsed": true
   },
   "outputs": [],
   "source": [
    "def receiver_thread(sock):\n",
    "    \"\"\" Receive one message from messanger server.\n",
    "    \"\"\"\n",
    "    while True:\n",
    "        if stopped:\n",
    "            break\n",
    "        \n",
    "        try:\n",
    "            #data = sock.recv(BUF_SIZE)\n",
    "            data, addr = sock.recvfrom(BUF_SIZE)\n",
    "        except socket.timeout as exc:\n",
    "            #raise RuntimeError('I think the server is down') from exc\n",
    "            pass\n",
    "        else:\n",
    "            print('{}>>{}'.format(addr, data.decode('utf-8')))\n",
    "\n",
    "    print (\"Receiver Thread stopped\")"
   ]
  },
  {
   "cell_type": "code",
   "execution_count": 4,
   "metadata": {},
   "outputs": [
    {
     "name": "stdout",
     "output_type": "stream",
     "text": [
      "Client socket name is ('0.0.0.0', 0)\n"
     ]
    }
   ],
   "source": [
    "sock = socket.socket(socket.AF_INET, socket.SOCK_DGRAM)\n",
    "#sock.connect((HOST, PORT))\n",
    "#sock.settimeout(MAX_TIMEOUT)\n",
    "\n",
    "print('Client socket name is {}'.format(sock.getsockname()))\n"
   ]
  },
  {
   "cell_type": "code",
   "execution_count": 5,
   "metadata": {},
   "outputs": [
    {
     "name": "stdout",
     "output_type": "stream",
     "text": [
      "<<hello\n",
      "<<hello\n",
      "('192.168.219.154', 7770)>>good\n",
      "('192.168.219.105', 36529)>>good\n",
      "<<check good\n",
      "('192.168.219.154', 7770)>>help\n",
      "('192.168.219.105', 53244)>>help\n",
      "('192.168.219.154', 7770)>>uuuuu\n",
      "('192.168.219.105', 39311)>>uuuuu\n",
      "('192.168.219.105', 56970)>>hello world!\n",
      "<<.\n"
     ]
    }
   ],
   "source": [
    "thread = threading.Thread(target=receiver_thread, args=[sock], daemon=True)\n",
    "thread.start()\n",
    "\n",
    "while True:\n",
    "    text = input(\"<<\")\n",
    "    if text == '.':\n",
    "        stopped = True\n",
    "        break\n",
    "        \n",
    "    data = text.encode('utf-8')\n",
    "    sock.sendto(data, (HOST, PORT))\n"
   ]
  },
  {
   "cell_type": "code",
   "execution_count": null,
   "metadata": {
    "collapsed": true
   },
   "outputs": [],
   "source": []
  }
 ],
 "metadata": {
  "kernelspec": {
   "display_name": "Python [default]",
   "language": "python",
   "name": "python3"
  },
  "language_info": {
   "codemirror_mode": {
    "name": "ipython",
    "version": 3
   },
   "file_extension": ".py",
   "mimetype": "text/x-python",
   "name": "python",
   "nbconvert_exporter": "python",
   "pygments_lexer": "ipython3",
   "version": "3.5.3"
  }
 },
 "nbformat": 4,
 "nbformat_minor": 2
}
