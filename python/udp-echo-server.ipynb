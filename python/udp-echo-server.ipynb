{
 "cells": [
  {
   "cell_type": "code",
   "execution_count": 6,
   "metadata": {
    "collapsed": true
   },
   "outputs": [],
   "source": [
    "import socket\n"
   ]
  },
  {
   "cell_type": "code",
   "execution_count": 7,
   "metadata": {
    "collapsed": true
   },
   "outputs": [],
   "source": [
    "HOST = \"192.168.219.154\"\n",
    "PORT = 8880\n",
    "MAX_BYTES = 65535"
   ]
  },
  {
   "cell_type": "code",
   "execution_count": 8,
   "metadata": {
    "collapsed": true
   },
   "outputs": [],
   "source": [
    "sock = socket.socket(socket.AF_INET, socket.SOCK_DGRAM)\n",
    "sock.bind((HOST, PORT))\n"
   ]
  },
  {
   "cell_type": "code",
   "execution_count": null,
   "metadata": {},
   "outputs": [
    {
     "name": "stdout",
     "output_type": "stream",
     "text": [
      "Listening at ('192.168.219.154', 8880)\n"
     ]
    }
   ],
   "source": [
    "print('Listening at', sock.getsockname())\n",
    "\n",
    "while True:\n",
    "    try:\n",
    "        data, addr = sock.recvfrom(MAX_BYTES)\n",
    "        #print('We have accepted a connection from', addr)\n",
    "    \n",
    "        #text = data.decode('utf-8')\n",
    "        #print('The client at {} says {!r}'.format(addr, text))\n",
    "        #message = 'Your data was {} bytes long'.format(len(data))\n",
    "        sock.sendto(data, addr)\n",
    "\n",
    "    except KeyboardInterrupt:\n",
    "        print(\"Exited by user\")\n",
    "        break\n"
   ]
  },
  {
   "cell_type": "code",
   "execution_count": null,
   "metadata": {
    "collapsed": true
   },
   "outputs": [],
   "source": []
  }
 ],
 "metadata": {
  "kernelspec": {
   "display_name": "Python [default]",
   "language": "python",
   "name": "python3"
  },
  "language_info": {
   "codemirror_mode": {
    "name": "ipython",
    "version": 3
   },
   "file_extension": ".py",
   "mimetype": "text/x-python",
   "name": "python",
   "nbconvert_exporter": "python",
   "pygments_lexer": "ipython3",
   "version": "3.5.3"
  }
 },
 "nbformat": 4,
 "nbformat_minor": 2
}
